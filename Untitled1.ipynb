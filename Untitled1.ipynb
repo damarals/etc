{
  "nbformat": 4,
  "nbformat_minor": 0,
  "metadata": {
    "colab": {
      "name": "Untitled1.ipynb",
      "version": "0.3.2",
      "provenance": []
    },
    "kernelspec": {
      "name": "python3",
      "display_name": "Python 3"
    }
  },
  "cells": [
    {
      "metadata": {
        "id": "IthoJ5sfF8fQ",
        "colab_type": "code",
        "colab": {}
      },
      "cell_type": "code",
      "source": [
        "cores = ['Nenhuma', 'Prata', 'Ouro', 'Preto', 'Marrom', 'Vermelho', 'Laranja', 'Amarelo']\n",
        "A = ['', '', '', '', 1, 2, 3, 4]\n",
        "B = ['', '', '', 0, 1, 2, 3, 4]\n",
        "C = [1, 10 ** -2, 10 ** -1, 10 ** 0, 10 ** 1, 10 ** 2, 10 ** 3, 10 ** 4]\n",
        "D = ['+/- 20%', '+/- 10%', '+/- 5%', '', '+/- 1%', '+/- 2%', '', '']"
      ],
      "execution_count": 0,
      "outputs": []
    },
    {
      "metadata": {
        "id": "5_pX801uK4MW",
        "colab_type": "code",
        "colab": {}
      },
      "cell_type": "code",
      "source": [
        "cor_A = 'Marrom'\n",
        "cor_B = 'Prata'\n",
        "cor_C = 'Marrom'\n",
        "cor_D = 'Amarelo'"
      ],
      "execution_count": 0,
      "outputs": []
    },
    {
      "metadata": {
        "id": "I3yjARlcM_w_",
        "colab_type": "code",
        "colab": {}
      },
      "cell_type": "code",
      "source": [
        "indice_A = cores.index(cor_A)\n",
        "indice_B = cores.index(cor_B)\n",
        "indice_C = cores.index(cor_C)\n",
        "indice_D = cores.index(cor_D)"
      ],
      "execution_count": 0,
      "outputs": []
    },
    {
      "metadata": {
        "id": "p1qqq3hfeU_F",
        "colab_type": "code",
        "colab": {}
      },
      "cell_type": "code",
      "source": [
        "a = A[indice_A]\n",
        "b = B[indice_B]\n",
        "c = C[indice_C]\n",
        "d = D[indice_D]"
      ],
      "execution_count": 0,
      "outputs": []
    },
    {
      "metadata": {
        "id": "gbv1kieheu2-",
        "colab_type": "code",
        "colab": {
          "base_uri": "https://localhost:8080/",
          "height": 34
        },
        "outputId": "72978854-290d-44e9-f97f-e828af2c1ae0"
      },
      "cell_type": "code",
      "source": [
        "if a == '':\n",
        "  if b == '':\n",
        "    print(f'A resistencia é: {c} omnhs {d}')\n",
        "  else :\n",
        "    print(f'A resistencia é: {b*c} omnhs {d}')\n",
        "elif b == '':\n",
        "  print(f'A resistencia é: {a*c} omnhs {d}')\n",
        "else:\n",
        "  print(f'A resistencia é: {int(str(a) + str(b)) * c} omnhs {d}')"
      ],
      "execution_count": 34,
      "outputs": [
        {
          "output_type": "stream",
          "text": [
            "A resistencia é: 10 omnhs \n"
          ],
          "name": "stdout"
        }
      ]
    }
  ]
}